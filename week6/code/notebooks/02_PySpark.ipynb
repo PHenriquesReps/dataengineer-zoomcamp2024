{
 "cells": [
  {
   "cell_type": "code",
   "execution_count": 1,
   "id": "56734106",
   "metadata": {},
   "outputs": [
    {
     "name": "stderr",
     "output_type": "stream",
     "text": [
      "Setting default log level to \"WARN\".\n",
      "To adjust logging level use sc.setLogLevel(newLevel). For SparkR, use setLogLevel(newLevel).\n",
      "24/02/23 16:30:30 WARN NativeCodeLoader: Unable to load native-hadoop library for your platform... using builtin-java classes where applicable\n",
      "24/02/23 16:30:31 WARN Utils: Service 'SparkUI' could not bind on port 4040. Attempting port 4041.\n"
     ]
    }
   ],
   "source": [
    "import pyspark\n",
    "from pyspark.sql import SparkSession\n",
    "\n",
    "spark = SparkSession.builder \\\n",
    "    .master(\"local[*]\") \\\n",
    "    .appName('test') \\\n",
    "    .getOrCreate()"
   ]
  },
  {
   "cell_type": "code",
   "execution_count": 2,
   "id": "3fc78b8b",
   "metadata": {},
   "outputs": [
    {
     "name": "stdout",
     "output_type": "stream",
     "text": [
      "--2024-02-23 16:33:07--  https://d37ci6vzurychx.cloudfront.net/trip-data/fhvhv_tripdata_2021-01.parquet\n",
      "Resolving d37ci6vzurychx.cloudfront.net (d37ci6vzurychx.cloudfront.net)... 18.155.128.46, 18.155.128.187, 18.155.128.222, ...\n",
      "Connecting to d37ci6vzurychx.cloudfront.net (d37ci6vzurychx.cloudfront.net)|18.155.128.46|:443... connected.\n",
      "HTTP request sent, awaiting response... 200 OK\n",
      "Length: 308924937 (295M) [application/x-www-form-urlencoded]\n",
      "Saving to: ‘fhvhv_tripdata_2021-01.parquet’\n",
      "\n",
      "fhvhv_tripdata_2021 100%[===================>] 294.61M   186MB/s    in 1.6s    \n",
      "\n",
      "2024-02-23 16:33:08 (186 MB/s) - ‘fhvhv_tripdata_2021-01.parquet’ saved [308924937/308924937]\n",
      "\n"
     ]
    }
   ],
   "source": [
    "! wget https://d37ci6vzurychx.cloudfront.net/trip-data/fhvhv_tripdata_2021-01.parquet\n"
   ]
  },
  {
   "cell_type": "code",
   "execution_count": 10,
   "id": "ededf314",
   "metadata": {},
   "outputs": [
    {
     "name": "stderr",
     "output_type": "stream",
     "text": [
      "\r",
      "                                                                                \r"
     ]
    }
   ],
   "source": [
    "df = spark.read.format(\"Parquet\").load(\"fhvhv_tripdata_2021-01.parquet\")"
   ]
  },
  {
   "cell_type": "code",
   "execution_count": 4,
   "id": "cb7e437c",
   "metadata": {},
   "outputs": [
    {
     "name": "stderr",
     "output_type": "stream",
     "text": [
      "                                                                                \r"
     ]
    },
    {
     "name": "stdout",
     "output_type": "stream",
     "text": [
      "+-----------------+--------------------+--------------------+-------------------+-------------------+-------------------+-------------------+------------+------------+----------+---------+-------------------+-----+----+---------+--------------------+-----------+----+----------+-------------------+-----------------+------------------+----------------+--------------+\n",
      "|hvfhs_license_num|dispatching_base_num|originating_base_num|   request_datetime|  on_scene_datetime|    pickup_datetime|   dropoff_datetime|PULocationID|DOLocationID|trip_miles|trip_time|base_passenger_fare|tolls| bcf|sales_tax|congestion_surcharge|airport_fee|tips|driver_pay|shared_request_flag|shared_match_flag|access_a_ride_flag|wav_request_flag|wav_match_flag|\n",
      "+-----------------+--------------------+--------------------+-------------------+-------------------+-------------------+-------------------+------------+------------+----------+---------+-------------------+-----+----+---------+--------------------+-----------+----+----------+-------------------+-----------------+------------------+----------------+--------------+\n",
      "|           HV0003|              B02682|              B02682|2021-01-01 00:28:09|2021-01-01 00:31:42|2021-01-01 00:33:44|2021-01-01 00:49:07|         230|         166|      5.26|      923|              22.28|  0.0|0.67|     1.98|                2.75|       null| 0.0|     14.99|                  N|                N|                  |               N|             N|\n",
      "|           HV0003|              B02682|              B02682|2021-01-01 00:45:56|2021-01-01 00:55:19|2021-01-01 00:55:19|2021-01-01 01:18:21|         152|         167|      3.65|     1382|              18.36|  0.0|0.55|     1.63|                 0.0|       null| 0.0|     17.06|                  N|                N|                  |               N|             N|\n",
      "|           HV0003|              B02764|              B02764|2021-01-01 00:21:15|2021-01-01 00:22:41|2021-01-01 00:23:56|2021-01-01 00:38:05|         233|         142|      3.51|      849|              14.05|  0.0|0.48|     1.25|                2.75|       null|0.94|     12.98|                  N|                N|                  |               N|             N|\n",
      "|           HV0003|              B02764|              B02764|2021-01-01 00:39:12|2021-01-01 00:42:37|2021-01-01 00:42:51|2021-01-01 00:45:50|         142|         143|      0.74|      179|               7.91|  0.0|0.24|      0.7|                2.75|       null| 0.0|      7.41|                  N|                N|                  |               N|             N|\n",
      "|           HV0003|              B02764|              B02764|2021-01-01 00:46:11|2021-01-01 00:47:17|2021-01-01 00:48:14|2021-01-01 01:08:42|         143|          78|       9.2|     1228|              27.11|  0.0|0.81|     2.41|                2.75|       null| 0.0|     22.44|                  N|                N|                  |               N|             N|\n",
      "|           HV0005|              B02510|                null|2021-01-01 00:04:00|               null|2021-01-01 00:06:59|2021-01-01 00:43:01|          88|          42|     9.725|     2162|              28.11|  0.0|0.84|     2.49|                2.75|       null| 0.0|      28.9|                  N|                N|                 N|               N|             N|\n",
      "|           HV0005|              B02510|                null|2021-01-01 00:40:06|               null|2021-01-01 00:50:00|2021-01-01 01:04:57|          42|         151|     2.469|      897|              25.03|  0.0|0.75|     2.22|                 0.0|       null| 0.0|     15.01|                  N|                N|                 N|               N|             N|\n",
      "|           HV0003|              B02764|              B02764|2021-01-01 00:10:36|2021-01-01 00:12:28|2021-01-01 00:14:30|2021-01-01 00:50:27|          71|         226|     13.53|     2157|              29.67|  0.0|1.04|     3.08|                 0.0|       null| 0.0|      34.2|                  N|                N|                  |               N|             N|\n",
      "|           HV0003|              B02875|              B02875|2021-01-01 00:21:17|2021-01-01 00:22:25|2021-01-01 00:22:54|2021-01-01 00:30:20|         112|         255|       1.6|      446|               6.89|  0.0|0.21|     0.61|                 0.0|       null| 0.0|      6.26|                  N|                N|                  |               N|             N|\n",
      "|           HV0003|              B02875|              B02875|2021-01-01 00:36:57|2021-01-01 00:38:09|2021-01-01 00:40:12|2021-01-01 00:53:31|         255|         232|       3.2|      800|              11.51|  0.0|0.53|     1.03|                2.75|       null|2.82|     10.99|                  N|                N|                  |               N|             N|\n",
      "|           HV0003|              B02875|              B02875|2021-01-01 00:53:31|2021-01-01 00:56:21|2021-01-01 00:56:45|2021-01-01 01:17:42|         232|         198|      5.74|     1257|              17.18|  0.0|0.52|     1.52|                2.75|       null| 0.0|     17.61|                  N|                N|                  |               N|             N|\n",
      "|           HV0003|              B02835|              B02835|2021-01-01 00:22:58|2021-01-01 00:27:01|2021-01-01 00:29:04|2021-01-01 00:36:27|         113|          48|       1.8|      443|               8.18|  0.0|0.25|     0.73|                2.75|       null| 0.0|      6.12|                  N|                N|                  |               N|             N|\n",
      "|           HV0003|              B02835|              B02835|2021-01-01 00:46:44|2021-01-01 00:47:49|2021-01-01 00:48:56|2021-01-01 00:59:12|         239|          75|       2.9|      616|               13.1|  0.0|0.45|     1.17|                2.75|       null|0.94|      8.77|                  N|                N|                  |               N|             N|\n",
      "|           HV0004|              B02800|                null|2021-01-01 00:12:50|               null|2021-01-01 00:15:24|2021-01-01 00:38:31|         181|         237|      9.66|     1387|              32.95|  0.0| 0.0|     2.34|                2.75|       null| 0.0|      21.1|                  N|                N|                 N|               N|             N|\n",
      "|           HV0004|              B02800|                null|2021-01-01 00:35:32|               null|2021-01-01 00:45:00|2021-01-01 01:06:45|         236|          68|      4.38|     1305|              22.91|  0.0| 0.0|     1.63|                2.75|       null|3.43|     15.82|                  N|                N|                 N|               N|             N|\n",
      "|           HV0003|              B02682|              B02682|2021-01-01 00:10:22|2021-01-01 00:11:03|2021-01-01 00:11:53|2021-01-01 00:18:06|         256|         148|      2.03|      373|               7.84|  0.0|0.42|      0.7|                2.75|       null|2.82|      6.93|                  N|                N|                  |               N|             N|\n",
      "|           HV0003|              B02682|              B02682|2021-01-01 00:25:00|2021-01-01 00:26:31|2021-01-01 00:28:31|2021-01-01 00:41:40|          79|          80|      3.08|      789|               13.2|  0.0| 0.4|     1.17|                2.75|       null| 0.0|     11.54|                  N|                N|                  |               N|             N|\n",
      "|           HV0003|              B02682|              B02682|2021-01-01 00:44:56|2021-01-01 00:49:55|2021-01-01 00:50:49|2021-01-01 00:55:59|          17|         217|      1.17|      310|               7.91|  0.0|0.24|      0.7|                 0.0|       null| 0.0|      6.94|                  N|                N|                  |               N|             N|\n",
      "|           HV0005|              B02510|                null|2021-01-01 00:05:04|               null|2021-01-01 00:08:40|2021-01-01 00:39:39|          62|          29|    10.852|     1859|              31.18|  0.0|0.94|     2.77|                 0.0|       null| 0.0|     27.61|                  N|                N|                 N|               N|             N|\n",
      "|           HV0003|              B02836|              B02836|2021-01-01 00:40:44|2021-01-01 00:53:34|2021-01-01 00:53:48|2021-01-01 01:11:40|          22|          22|      3.52|     1072|              28.67|  0.0|0.86|     2.54|                 0.0|       null| 0.0|     17.64|                  N|                N|                  |               N|             N|\n",
      "+-----------------+--------------------+--------------------+-------------------+-------------------+-------------------+-------------------+------------+------------+----------+---------+-------------------+-----+----+---------+--------------------+-----------+----+----------+-------------------+-----------------+------------------+----------------+--------------+\n",
      "only showing top 20 rows\n",
      "\n"
     ]
    }
   ],
   "source": [
    "df.show()"
   ]
  },
  {
   "cell_type": "code",
   "execution_count": 5,
   "id": "fb948171",
   "metadata": {},
   "outputs": [
    {
     "name": "stdout",
     "output_type": "stream",
     "text": [
      "root\n",
      " |-- hvfhs_license_num: string (nullable = true)\n",
      " |-- dispatching_base_num: string (nullable = true)\n",
      " |-- originating_base_num: string (nullable = true)\n",
      " |-- request_datetime: timestamp_ntz (nullable = true)\n",
      " |-- on_scene_datetime: timestamp_ntz (nullable = true)\n",
      " |-- pickup_datetime: timestamp_ntz (nullable = true)\n",
      " |-- dropoff_datetime: timestamp_ntz (nullable = true)\n",
      " |-- PULocationID: long (nullable = true)\n",
      " |-- DOLocationID: long (nullable = true)\n",
      " |-- trip_miles: double (nullable = true)\n",
      " |-- trip_time: long (nullable = true)\n",
      " |-- base_passenger_fare: double (nullable = true)\n",
      " |-- tolls: double (nullable = true)\n",
      " |-- bcf: double (nullable = true)\n",
      " |-- sales_tax: double (nullable = true)\n",
      " |-- congestion_surcharge: double (nullable = true)\n",
      " |-- airport_fee: double (nullable = true)\n",
      " |-- tips: double (nullable = true)\n",
      " |-- driver_pay: double (nullable = true)\n",
      " |-- shared_request_flag: string (nullable = true)\n",
      " |-- shared_match_flag: string (nullable = true)\n",
      " |-- access_a_ride_flag: string (nullable = true)\n",
      " |-- wav_request_flag: string (nullable = true)\n",
      " |-- wav_match_flag: string (nullable = true)\n",
      "\n"
     ]
    }
   ],
   "source": [
    "df.printSchema()"
   ]
  },
  {
   "cell_type": "code",
   "execution_count": 12,
   "id": "00e56a7d",
   "metadata": {},
   "outputs": [],
   "source": [
    "df = df.repartition(8)"
   ]
  },
  {
   "cell_type": "code",
   "execution_count": 13,
   "id": "8d116261",
   "metadata": {},
   "outputs": [
    {
     "name": "stderr",
     "output_type": "stream",
     "text": [
      "\r",
      "[Stage 5:============================================>              (3 + 1) / 4]\r"
     ]
    },
    {
     "data": {
      "text/plain": [
       "8"
      ]
     },
     "execution_count": 13,
     "metadata": {},
     "output_type": "execute_result"
    }
   ],
   "source": [
    "df.rdd.getNumPartitions()"
   ]
  },
  {
   "cell_type": "code",
   "execution_count": 18,
   "id": "6cd356ee",
   "metadata": {},
   "outputs": [
    {
     "name": "stderr",
     "output_type": "stream",
     "text": [
      "                                                                                \r"
     ]
    }
   ],
   "source": [
    "df.write.format(\"PARQUET\").mode(\"overwrite\").option('path','fhvhv/2021/01').save()"
   ]
  },
  {
   "cell_type": "code",
   "execution_count": 16,
   "id": "93689d9a",
   "metadata": {},
   "outputs": [
    {
     "name": "stdout",
     "output_type": "stream",
     "text": [
      "total 479M\r\n",
      "-rw-r--r-- 1 pedroh pedroh   0 Feb 23 17:36 _SUCCESS\r\n",
      "-rw-r--r-- 1 pedroh pedroh 60M Feb 23 17:36 part-00000-bcb495f9-a5dd-4e93-b1a2-34bc8c8cd025-c000.snappy.parquet\r\n",
      "-rw-r--r-- 1 pedroh pedroh 60M Feb 23 17:36 part-00001-bcb495f9-a5dd-4e93-b1a2-34bc8c8cd025-c000.snappy.parquet\r\n",
      "-rw-r--r-- 1 pedroh pedroh 60M Feb 23 17:36 part-00002-bcb495f9-a5dd-4e93-b1a2-34bc8c8cd025-c000.snappy.parquet\r\n",
      "-rw-r--r-- 1 pedroh pedroh 60M Feb 23 17:36 part-00003-bcb495f9-a5dd-4e93-b1a2-34bc8c8cd025-c000.snappy.parquet\r\n",
      "-rw-r--r-- 1 pedroh pedroh 60M Feb 23 17:36 part-00004-bcb495f9-a5dd-4e93-b1a2-34bc8c8cd025-c000.snappy.parquet\r\n",
      "-rw-r--r-- 1 pedroh pedroh 60M Feb 23 17:36 part-00005-bcb495f9-a5dd-4e93-b1a2-34bc8c8cd025-c000.snappy.parquet\r\n",
      "-rw-r--r-- 1 pedroh pedroh 60M Feb 23 17:36 part-00006-bcb495f9-a5dd-4e93-b1a2-34bc8c8cd025-c000.snappy.parquet\r\n",
      "-rw-r--r-- 1 pedroh pedroh 60M Feb 23 17:36 part-00007-bcb495f9-a5dd-4e93-b1a2-34bc8c8cd025-c000.snappy.parquet\r\n"
     ]
    }
   ],
   "source": [
    "! ls -lh fhvhv/2021/01"
   ]
  },
  {
   "cell_type": "code",
   "execution_count": 19,
   "id": "ba4e4bc4",
   "metadata": {},
   "outputs": [],
   "source": [
    "df = spark.read.parquet('fhvhv/2021/01')"
   ]
  },
  {
   "cell_type": "code",
   "execution_count": 20,
   "id": "01a6ceb1",
   "metadata": {},
   "outputs": [
    {
     "data": {
      "text/plain": [
       "DataFrame[hvfhs_license_num: string, dispatching_base_num: string, originating_base_num: string, request_datetime: timestamp_ntz, on_scene_datetime: timestamp_ntz, pickup_datetime: timestamp_ntz, dropoff_datetime: timestamp_ntz, PULocationID: bigint, DOLocationID: bigint, trip_miles: double, trip_time: bigint, base_passenger_fare: double, tolls: double, bcf: double, sales_tax: double, congestion_surcharge: double, airport_fee: double, tips: double, driver_pay: double, shared_request_flag: string, shared_match_flag: string, access_a_ride_flag: string, wav_request_flag: string, wav_match_flag: string]"
      ]
     },
     "execution_count": 20,
     "metadata": {},
     "output_type": "execute_result"
    }
   ],
   "source": [
    "df"
   ]
  },
  {
   "cell_type": "code",
   "execution_count": 22,
   "id": "c008c5af",
   "metadata": {},
   "outputs": [
    {
     "name": "stdout",
     "output_type": "stream",
     "text": [
      "+-------------------+-------------------+------------+------------+\n",
      "|    pickup_datetime|   dropoff_datetime|PULocationID|DOLocationID|\n",
      "+-------------------+-------------------+------------+------------+\n",
      "|2021-01-05 12:42:09|2021-01-05 13:04:44|          22|         261|\n",
      "|2021-01-01 10:41:59|2021-01-01 11:02:42|         122|         196|\n",
      "|2021-01-02 08:12:07|2021-01-02 08:42:41|         162|           1|\n",
      "|2021-01-02 14:16:06|2021-01-02 14:22:35|         189|         181|\n",
      "|2021-01-26 19:34:12|2021-01-26 19:47:11|         126|          69|\n",
      "|2021-01-06 08:26:45|2021-01-06 08:53:00|          56|          75|\n",
      "|2021-01-07 23:17:27|2021-01-07 23:30:24|         152|         159|\n",
      "|2021-01-08 21:46:23|2021-01-08 21:55:12|         136|         174|\n",
      "|2021-01-28 01:07:33|2021-01-28 01:17:39|         169|          69|\n",
      "|2021-01-08 13:56:20|2021-01-08 14:00:04|          89|          89|\n",
      "|2021-01-17 09:00:11|2021-01-17 09:13:05|         169|          69|\n",
      "|2021-01-30 16:27:04|2021-01-30 16:42:19|         170|         140|\n",
      "|2021-01-04 08:12:22|2021-01-04 08:28:57|         235|         182|\n",
      "|2021-01-21 09:49:42|2021-01-21 10:02:47|          69|         244|\n",
      "|2021-01-01 18:31:47|2021-01-01 18:52:24|           4|          49|\n",
      "|2021-01-14 22:58:21|2021-01-14 23:12:56|         164|         145|\n",
      "|2021-01-29 08:06:29|2021-01-29 08:10:35|         242|         248|\n",
      "|2021-01-29 05:10:08|2021-01-29 05:35:18|         198|         137|\n",
      "|2021-01-25 20:23:36|2021-01-25 20:32:50|         242|          81|\n",
      "|2021-01-12 14:34:31|2021-01-12 15:01:36|         169|         250|\n",
      "+-------------------+-------------------+------------+------------+\n",
      "only showing top 20 rows\n",
      "\n"
     ]
    }
   ],
   "source": [
    "df.select('pickup_datetime', 'dropoff_datetime', 'PULocationID', 'DOLocationID').where(\"hvfhs_license_num = 'HV0003'\").show()"
   ]
  },
  {
   "cell_type": "code",
   "execution_count": 27,
   "id": "1835f526",
   "metadata": {},
   "outputs": [],
   "source": [
    "from pyspark.sql import functions as F\n",
    "from pyspark.sql import types"
   ]
  },
  {
   "cell_type": "code",
   "execution_count": 24,
   "id": "e8e2eae4",
   "metadata": {},
   "outputs": [],
   "source": [
    "df = df.withColumn('pickup_date', F.to_date('pickup_datetime')) \\\n",
    "    .withColumn('dropoff_date', F.to_date('dropoff_datetime'))"
   ]
  },
  {
   "cell_type": "code",
   "execution_count": 26,
   "id": "0222a40a",
   "metadata": {},
   "outputs": [
    {
     "name": "stdout",
     "output_type": "stream",
     "text": [
      "+-----------+------------+\n",
      "|pickup_date|dropoff_date|\n",
      "+-----------+------------+\n",
      "| 2021-01-05|  2021-01-05|\n",
      "| 2021-01-01|  2021-01-01|\n",
      "| 2021-01-02|  2021-01-02|\n",
      "| 2021-01-02|  2021-01-02|\n",
      "| 2021-01-24|  2021-01-24|\n",
      "| 2021-01-26|  2021-01-26|\n",
      "| 2021-01-06|  2021-01-06|\n",
      "| 2021-01-07|  2021-01-07|\n",
      "| 2021-01-08|  2021-01-08|\n",
      "| 2021-01-28|  2021-01-28|\n",
      "| 2021-01-31|  2021-01-31|\n",
      "| 2021-01-08|  2021-01-08|\n",
      "| 2021-01-17|  2021-01-17|\n",
      "| 2021-01-30|  2021-01-30|\n",
      "| 2021-01-04|  2021-01-04|\n",
      "| 2021-01-29|  2021-01-29|\n",
      "| 2021-01-21|  2021-01-21|\n",
      "| 2021-01-01|  2021-01-01|\n",
      "| 2021-01-14|  2021-01-14|\n",
      "| 2021-01-28|  2021-01-28|\n",
      "+-----------+------------+\n",
      "only showing top 20 rows\n",
      "\n"
     ]
    }
   ],
   "source": [
    "df.select('pickup_date', 'dropoff_date').show()"
   ]
  },
  {
   "cell_type": "code",
   "execution_count": 29,
   "id": "64bad39c",
   "metadata": {},
   "outputs": [],
   "source": [
    "def crazy_stuff(base_num):\n",
    "    num = int(base_num[1:])\n",
    "    if num % 7 == 0:\n",
    "        return f's/{num:03x}'\n",
    "    else:\n",
    "        return f'e/{num:03x}'"
   ]
  },
  {
   "cell_type": "code",
   "execution_count": 30,
   "id": "4ca74d42",
   "metadata": {},
   "outputs": [],
   "source": [
    "crazy_stuff_udf = F.udf(crazy_stuff, returnType=types.StringType())"
   ]
  },
  {
   "cell_type": "code",
   "execution_count": 31,
   "id": "fb999201",
   "metadata": {},
   "outputs": [
    {
     "name": "stderr",
     "output_type": "stream",
     "text": [
      "\r",
      "[Stage 16:>                                                         (0 + 1) / 1]\r"
     ]
    },
    {
     "name": "stdout",
     "output_type": "stream",
     "text": [
      "+-------+-----------+------------+------------+------------+\n",
      "|base_id|pickup_date|dropoff_date|PULocationID|DOLocationID|\n",
      "+-------+-----------+------------+------------+------------+\n",
      "|  e/acc| 2021-01-05|  2021-01-05|          22|         261|\n",
      "|  e/b37| 2021-01-01|  2021-01-01|         122|         196|\n",
      "|  s/acd| 2021-01-02|  2021-01-02|         162|           1|\n",
      "|  e/b33| 2021-01-02|  2021-01-02|         189|         181|\n",
      "|  e/9ce| 2021-01-24|  2021-01-24|          25|          36|\n",
      "|  s/b44| 2021-01-26|  2021-01-26|         126|          69|\n",
      "|  s/acd| 2021-01-06|  2021-01-06|          56|          75|\n",
      "|  e/b3c| 2021-01-07|  2021-01-07|         152|         159|\n",
      "|  e/b3f| 2021-01-08|  2021-01-08|         136|         174|\n",
      "|  s/acd| 2021-01-28|  2021-01-28|         169|          69|\n",
      "|  e/9ce| 2021-01-31|  2021-01-31|          41|          80|\n",
      "|  e/b32| 2021-01-08|  2021-01-08|          89|          89|\n",
      "|  e/b3b| 2021-01-17|  2021-01-17|         169|          69|\n",
      "|  e/b3f| 2021-01-30|  2021-01-30|         170|         140|\n",
      "|  e/b48| 2021-01-04|  2021-01-04|         235|         182|\n",
      "|  e/9ce| 2021-01-29|  2021-01-29|         198|          37|\n",
      "|  e/b3b| 2021-01-21|  2021-01-21|          69|         244|\n",
      "|  e/b47| 2021-01-01|  2021-01-01|           4|          49|\n",
      "|  e/acc| 2021-01-14|  2021-01-14|         164|         145|\n",
      "|  e/9ce| 2021-01-28|  2021-01-28|         186|         259|\n",
      "+-------+-----------+------------+------------+------------+\n",
      "only showing top 20 rows\n",
      "\n"
     ]
    },
    {
     "name": "stderr",
     "output_type": "stream",
     "text": [
      "\r",
      "                                                                                \r"
     ]
    }
   ],
   "source": [
    "df.withColumn('pickup_date', F.to_date('pickup_datetime')) \\\n",
    "    .withColumn('dropoff_date', F.to_date('dropoff_datetime')) \\\n",
    "    .withColumn('base_id', crazy_stuff_udf('dispatching_base_num')) \\\n",
    "    .select('base_id', 'pickup_date', 'dropoff_date', 'PULocationID', 'DOLocationID').show()"
   ]
  },
  {
   "cell_type": "code",
   "execution_count": null,
   "id": "eae0d5a4",
   "metadata": {},
   "outputs": [],
   "source": []
  }
 ],
 "metadata": {
  "kernelspec": {
   "display_name": "Python 3 (ipykernel)",
   "language": "python",
   "name": "python3"
  },
  "language_info": {
   "codemirror_mode": {
    "name": "ipython",
    "version": 3
   },
   "file_extension": ".py",
   "mimetype": "text/x-python",
   "name": "python",
   "nbconvert_exporter": "python",
   "pygments_lexer": "ipython3",
   "version": "3.11.5"
  }
 },
 "nbformat": 4,
 "nbformat_minor": 5
}
